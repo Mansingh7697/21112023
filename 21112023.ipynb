{
 "cells": [
  {
   "cell_type": "code",
   "execution_count": 1,
   "id": "195573a7",
   "metadata": {},
   "outputs": [],
   "source": [
    "#Assignment 1\n",
    "a = 'amitabh bachchan'\n",
    "# amit, amitabh, bachchan, chan, mit, abh, bh ba, chch"
   ]
  },
  {
   "cell_type": "code",
   "execution_count": 2,
   "id": "c6a14c72",
   "metadata": {},
   "outputs": [
    {
     "data": {
      "text/plain": [
       "'amit'"
      ]
     },
     "execution_count": 2,
     "metadata": {},
     "output_type": "execute_result"
    }
   ],
   "source": [
    "a= 'amitabh bachchan'\n",
    "a[0:4]"
   ]
  },
  {
   "cell_type": "code",
   "execution_count": 3,
   "id": "2719fae0",
   "metadata": {},
   "outputs": [
    {
     "data": {
      "text/plain": [
       "'amitabh'"
      ]
     },
     "execution_count": 3,
     "metadata": {},
     "output_type": "execute_result"
    }
   ],
   "source": [
    "a= 'amitabh bachchan'\n",
    "a[0:7]"
   ]
  },
  {
   "cell_type": "code",
   "execution_count": 4,
   "id": "d36ad130",
   "metadata": {},
   "outputs": [
    {
     "data": {
      "text/plain": [
       "'bachchan'"
      ]
     },
     "execution_count": 4,
     "metadata": {},
     "output_type": "execute_result"
    }
   ],
   "source": [
    "a= 'Hrithik Roshan'\n",
    "a[8:]"
   ]
  },
  {
   "cell_type": "code",
   "execution_count": 5,
   "id": "26151b37",
   "metadata": {},
   "outputs": [
    {
     "data": {
      "text/plain": [
       "'chan'"
      ]
     },
     "execution_count": 5,
     "metadata": {},
     "output_type": "execute_result"
    }
   ],
   "source": [
    "a= 'amitabh bachchan'\n",
    "a[12:]"
   ]
  },
  {
   "cell_type": "code",
   "execution_count": 7,
   "id": "863c07fd",
   "metadata": {},
   "outputs": [
    {
     "data": {
      "text/plain": [
       "'mit'"
      ]
     },
     "execution_count": 7,
     "metadata": {},
     "output_type": "execute_result"
    }
   ],
   "source": [
    "a= 'amitabh bachchan'\n",
    "a[1:4]"
   ]
  },
  {
   "cell_type": "code",
   "execution_count": 8,
   "id": "1573239b",
   "metadata": {},
   "outputs": [
    {
     "data": {
      "text/plain": [
       "'abh'"
      ]
     },
     "execution_count": 8,
     "metadata": {},
     "output_type": "execute_result"
    }
   ],
   "source": [
    "a= 'amitabh bachchan'\n",
    "a[4:7]"
   ]
  },
  {
   "cell_type": "code",
   "execution_count": 9,
   "id": "cabc641d",
   "metadata": {},
   "outputs": [
    {
     "data": {
      "text/plain": [
       "'bh'"
      ]
     },
     "execution_count": 9,
     "metadata": {},
     "output_type": "execute_result"
    }
   ],
   "source": [
    "a= 'amitabh bachchan'\n",
    "a[5:7]"
   ]
  },
  {
   "cell_type": "code",
   "execution_count": 10,
   "id": "87a09f12",
   "metadata": {},
   "outputs": [
    {
     "data": {
      "text/plain": [
       "'ba'"
      ]
     },
     "execution_count": 10,
     "metadata": {},
     "output_type": "execute_result"
    }
   ],
   "source": [
    "a= 'amitabh bachchan'\n",
    "a[8:10]"
   ]
  },
  {
   "cell_type": "code",
   "execution_count": 11,
   "id": "6105f393",
   "metadata": {},
   "outputs": [
    {
     "data": {
      "text/plain": [
       "'chch'"
      ]
     },
     "execution_count": 11,
     "metadata": {},
     "output_type": "execute_result"
    }
   ],
   "source": [
    "a= 'amitabh bachchan'\n",
    "a[10:14]"
   ]
  },
  {
   "cell_type": "code",
   "execution_count": 14,
   "id": "1a341e26",
   "metadata": {},
   "outputs": [
    {
     "data": {
      "text/plain": [
       "'amit'"
      ]
     },
     "execution_count": 14,
     "metadata": {},
     "output_type": "execute_result"
    }
   ],
   "source": [
    "a= 'amitabh bachchan'\n",
    "a[:-12]"
   ]
  },
  {
   "cell_type": "code",
   "execution_count": 15,
   "id": "6b0b2c9d",
   "metadata": {},
   "outputs": [
    {
     "data": {
      "text/plain": [
       "'amitabh'"
      ]
     },
     "execution_count": 15,
     "metadata": {},
     "output_type": "execute_result"
    }
   ],
   "source": [
    "a= 'amitabh bachchan'\n",
    "a[0:-9]"
   ]
  },
  {
   "cell_type": "code",
   "execution_count": 16,
   "id": "190ffb9d",
   "metadata": {},
   "outputs": [
    {
     "data": {
      "text/plain": [
       "'bachchan'"
      ]
     },
     "execution_count": 16,
     "metadata": {},
     "output_type": "execute_result"
    }
   ],
   "source": [
    "a= 'amitabh bachchan'\n",
    "a[-8:]"
   ]
  },
  {
   "cell_type": "code",
   "execution_count": 17,
   "id": "91b32f8c",
   "metadata": {},
   "outputs": [
    {
     "data": {
      "text/plain": [
       "'chan'"
      ]
     },
     "execution_count": 17,
     "metadata": {},
     "output_type": "execute_result"
    }
   ],
   "source": [
    "a= 'amitabh bachchan'\n",
    "a[-4:]"
   ]
  },
  {
   "cell_type": "code",
   "execution_count": 21,
   "id": "7a91320f",
   "metadata": {},
   "outputs": [
    {
     "data": {
      "text/plain": [
       "'mit'"
      ]
     },
     "execution_count": 21,
     "metadata": {},
     "output_type": "execute_result"
    }
   ],
   "source": [
    "a= 'amitabh bachchan'\n",
    "a[-15:-12]"
   ]
  },
  {
   "cell_type": "code",
   "execution_count": 22,
   "id": "4f41f25d",
   "metadata": {},
   "outputs": [
    {
     "data": {
      "text/plain": [
       "'abh'"
      ]
     },
     "execution_count": 22,
     "metadata": {},
     "output_type": "execute_result"
    }
   ],
   "source": [
    "a= 'amitabh bachchan'\n",
    "a[-12:-9]"
   ]
  },
  {
   "cell_type": "code",
   "execution_count": 23,
   "id": "231d931d",
   "metadata": {},
   "outputs": [
    {
     "data": {
      "text/plain": [
       "'bh'"
      ]
     },
     "execution_count": 23,
     "metadata": {},
     "output_type": "execute_result"
    }
   ],
   "source": [
    "a= 'amitabh bachchan'\n",
    "a[-11:-9]"
   ]
  },
  {
   "cell_type": "code",
   "execution_count": 24,
   "id": "5af3e941",
   "metadata": {},
   "outputs": [
    {
     "data": {
      "text/plain": [
       "'ba'"
      ]
     },
     "execution_count": 24,
     "metadata": {},
     "output_type": "execute_result"
    }
   ],
   "source": [
    "a= 'amitabh bachchan'\n",
    "a[-8:-6]"
   ]
  },
  {
   "cell_type": "code",
   "execution_count": 25,
   "id": "7177a570",
   "metadata": {},
   "outputs": [
    {
     "data": {
      "text/plain": [
       "'chch'"
      ]
     },
     "execution_count": 25,
     "metadata": {},
     "output_type": "execute_result"
    }
   ],
   "source": [
    "a= 'amitabh bachchan'\n",
    "a[-6:-2]"
   ]
  },
  {
   "cell_type": "code",
   "execution_count": 26,
   "id": "89012f14",
   "metadata": {},
   "outputs": [
    {
     "data": {
      "text/plain": [
       "['__add__',\n",
       " '__class__',\n",
       " '__contains__',\n",
       " '__delattr__',\n",
       " '__dir__',\n",
       " '__doc__',\n",
       " '__eq__',\n",
       " '__format__',\n",
       " '__ge__',\n",
       " '__getattribute__',\n",
       " '__getitem__',\n",
       " '__getnewargs__',\n",
       " '__getstate__',\n",
       " '__gt__',\n",
       " '__hash__',\n",
       " '__init__',\n",
       " '__init_subclass__',\n",
       " '__iter__',\n",
       " '__le__',\n",
       " '__len__',\n",
       " '__lt__',\n",
       " '__mod__',\n",
       " '__mul__',\n",
       " '__ne__',\n",
       " '__new__',\n",
       " '__reduce__',\n",
       " '__reduce_ex__',\n",
       " '__repr__',\n",
       " '__rmod__',\n",
       " '__rmul__',\n",
       " '__setattr__',\n",
       " '__sizeof__',\n",
       " '__str__',\n",
       " '__subclasshook__',\n",
       " 'capitalize',\n",
       " 'casefold',\n",
       " 'center',\n",
       " 'count',\n",
       " 'encode',\n",
       " 'endswith',\n",
       " 'expandtabs',\n",
       " 'find',\n",
       " 'format',\n",
       " 'format_map',\n",
       " 'index',\n",
       " 'isalnum',\n",
       " 'isalpha',\n",
       " 'isascii',\n",
       " 'isdecimal',\n",
       " 'isdigit',\n",
       " 'isidentifier',\n",
       " 'islower',\n",
       " 'isnumeric',\n",
       " 'isprintable',\n",
       " 'isspace',\n",
       " 'istitle',\n",
       " 'isupper',\n",
       " 'join',\n",
       " 'ljust',\n",
       " 'lower',\n",
       " 'lstrip',\n",
       " 'maketrans',\n",
       " 'partition',\n",
       " 'removeprefix',\n",
       " 'removesuffix',\n",
       " 'replace',\n",
       " 'rfind',\n",
       " 'rindex',\n",
       " 'rjust',\n",
       " 'rpartition',\n",
       " 'rsplit',\n",
       " 'rstrip',\n",
       " 'split',\n",
       " 'splitlines',\n",
       " 'startswith',\n",
       " 'strip',\n",
       " 'swapcase',\n",
       " 'title',\n",
       " 'translate',\n",
       " 'upper',\n",
       " 'zfill']"
      ]
     },
     "execution_count": 26,
     "metadata": {},
     "output_type": "execute_result"
    }
   ],
   "source": [
    "dir(str)"
   ]
  },
  {
   "cell_type": "code",
   "execution_count": 27,
   "id": "457c9691",
   "metadata": {},
   "outputs": [
    {
     "data": {
      "text/plain": [
       "'Nikhil sangade'"
      ]
     },
     "execution_count": 27,
     "metadata": {},
     "output_type": "execute_result"
    }
   ],
   "source": [
    "v= 'nikhil sangade'\n",
    "v.capitalize()"
   ]
  },
  {
   "cell_type": "code",
   "execution_count": 28,
   "id": "f5ea6f64",
   "metadata": {},
   "outputs": [
    {
     "data": {
      "text/plain": [
       "'Nikhil Sangade'"
      ]
     },
     "execution_count": 28,
     "metadata": {},
     "output_type": "execute_result"
    }
   ],
   "source": [
    "v= 'nikhil sangade'\n",
    "v.title()"
   ]
  },
  {
   "cell_type": "code",
   "execution_count": 29,
   "id": "f4719ba5",
   "metadata": {},
   "outputs": [
    {
     "data": {
      "text/plain": [
       "'NIKHIL SANGADE'"
      ]
     },
     "execution_count": 29,
     "metadata": {},
     "output_type": "execute_result"
    }
   ],
   "source": [
    "v= 'nikhil sangade'\n",
    "v.upper()"
   ]
  },
  {
   "cell_type": "code",
   "execution_count": 34,
   "id": "a3caccda",
   "metadata": {},
   "outputs": [
    {
     "data": {
      "text/plain": [
       "'rOhIT sHArmA'"
      ]
     },
     "execution_count": 34,
     "metadata": {},
     "output_type": "execute_result"
    }
   ],
   "source": [
    "d = 'RoHit ShaRMa'\n",
    "d.swapcase()"
   ]
  },
  {
   "cell_type": "code",
   "execution_count": 35,
   "id": "abd59c96",
   "metadata": {},
   "outputs": [
    {
     "data": {
      "text/plain": [
       "'rohit sharma'"
      ]
     },
     "execution_count": 35,
     "metadata": {},
     "output_type": "execute_result"
    }
   ],
   "source": [
    "d = 'RoHit ShaRMa'\n",
    "d.casefold()"
   ]
  },
  {
   "cell_type": "code",
   "execution_count": 38,
   "id": "56672fbc",
   "metadata": {},
   "outputs": [
    {
     "data": {
      "text/plain": [
       "'virat'"
      ]
     },
     "execution_count": 38,
     "metadata": {},
     "output_type": "execute_result"
    }
   ],
   "source": [
    "r = '----virat----'\n",
    "r.strip('-')"
   ]
  },
  {
   "cell_type": "code",
   "execution_count": 40,
   "id": "a82a2be0",
   "metadata": {},
   "outputs": [
    {
     "data": {
      "text/plain": [
       "'parrot'"
      ]
     },
     "execution_count": 40,
     "metadata": {},
     "output_type": "execute_result"
    }
   ],
   "source": [
    "p = '   parrot   '\n",
    "p.strip()"
   ]
  },
  {
   "cell_type": "code",
   "execution_count": 42,
   "id": "e3cbd486",
   "metadata": {},
   "outputs": [
    {
     "data": {
      "text/plain": [
       "'nikhil'"
      ]
     },
     "execution_count": 42,
     "metadata": {},
     "output_type": "execute_result"
    }
   ],
   "source": [
    "m = '      nikhil'\n",
    "m.lstrip()"
   ]
  },
  {
   "cell_type": "code",
   "execution_count": 43,
   "id": "bc22cce7",
   "metadata": {},
   "outputs": [
    {
     "data": {
      "text/plain": [
       "'sangade'"
      ]
     },
     "execution_count": 43,
     "metadata": {},
     "output_type": "execute_result"
    }
   ],
   "source": [
    "n ='sangade    '\n",
    "n.rstrip()"
   ]
  },
  {
   "cell_type": "code",
   "execution_count": 44,
   "id": "c6729914",
   "metadata": {},
   "outputs": [
    {
     "data": {
      "text/plain": [
       "['hum', 'python', 'kaise', 'padhe']"
      ]
     },
     "execution_count": 44,
     "metadata": {},
     "output_type": "execute_result"
    }
   ],
   "source": [
    "g = 'hum python kaise padhe'\n",
    "g.split()"
   ]
  },
  {
   "cell_type": "code",
   "execution_count": 45,
   "id": "2d84f537",
   "metadata": {},
   "outputs": [
    {
     "data": {
      "text/plain": [
       "['11', '22', '33', '44', '55']"
      ]
     },
     "execution_count": 45,
     "metadata": {},
     "output_type": "execute_result"
    }
   ],
   "source": [
    "y = '11n22n33n44n55'\n",
    "y.split('n')"
   ]
  },
  {
   "cell_type": "code",
   "execution_count": 47,
   "id": "24905714",
   "metadata": {},
   "outputs": [
    {
     "data": {
      "text/plain": [
       "'hum python kaise padhe'"
      ]
     },
     "execution_count": 47,
     "metadata": {},
     "output_type": "execute_result"
    }
   ],
   "source": [
    "o = ['hum', 'python', 'kaise', 'padhe']\n",
    "' '.join(o)"
   ]
  },
  {
   "cell_type": "code",
   "execution_count": null,
   "id": "88aa94f0",
   "metadata": {},
   "outputs": [],
   "source": []
  }
 ],
 "metadata": {
  "kernelspec": {
   "display_name": "Python 3 (ipykernel)",
   "language": "python",
   "name": "python3"
  },
  "language_info": {
   "codemirror_mode": {
    "name": "ipython",
    "version": 3
   },
   "file_extension": ".py",
   "mimetype": "text/x-python",
   "name": "python",
   "nbconvert_exporter": "python",
   "pygments_lexer": "ipython3",
   "version": "3.11.5"
  }
 },
 "nbformat": 4,
 "nbformat_minor": 5
}
